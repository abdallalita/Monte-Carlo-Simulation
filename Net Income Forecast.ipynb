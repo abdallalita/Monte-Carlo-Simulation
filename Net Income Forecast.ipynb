{
 "cells": [
  {
   "cell_type": "markdown",
   "id": "70a19dda",
   "metadata": {},
   "source": [
    "**Forecasting a company's net income based on the Sales and Cost of Goods Sold**"
   ]
  },
  {
   "cell_type": "code",
   "execution_count": 1,
   "id": "915f51d0",
   "metadata": {},
   "outputs": [],
   "source": [
    "import matplotlib.pyplot as plt\n",
    "import pandas as pd\n",
    "import numpy as np"
   ]
  },
  {
   "cell_type": "markdown",
   "id": "d49192c3",
   "metadata": {},
   "source": [
    "**Distribution and Assumptions**"
   ]
  },
  {
   "cell_type": "code",
   "execution_count": 3,
   "id": "2b7dd102",
   "metadata": {},
   "outputs": [],
   "source": [
    "# create variables for the assumptions\n",
    "sales_mean = 50\n",
    "sales_std = 5\n",
    "COGS_mean = 0.15\n",
    "COGS_std = 0.1"
   ]
  },
  {
   "cell_type": "markdown",
   "id": "eb822f8d",
   "metadata": {},
   "source": [
    "**Simulate future Sales using mean, standard deviation and the assumptions**"
   ]
  },
  {
   "cell_type": "code",
   "execution_count": 4,
   "id": "5585b321",
   "metadata": {},
   "outputs": [
    {
     "name": "stdout",
     "output_type": "stream",
     "text": [
      "[55.58313433 51.94223394 47.76933595 ... 52.03872637 43.58671488\n",
      " 63.15782535]\n",
      "mean: 50.06729423997535\n",
      "std: 5.009671994376076\n"
     ]
    }
   ],
   "source": [
    "# Generate 10000 sales sample\n",
    "simulations = 10000\n",
    "sales_sims = np.random.normal(sales_mean,sales_std,simulations)\n",
    "\n",
    "print(sales_sims)\n",
    "print(\"mean:\" , np.mean(sales_sims))\n",
    "print(\"std:\" , np.std(sales_sims))"
   ]
  },
  {
   "cell_type": "code",
   "execution_count": 5,
   "id": "25bb97d0",
   "metadata": {},
   "outputs": [],
   "source": [
    "# Generate 10000 GOGS sample\n",
    "COGS_sims = -(sales_sims * np.random.normal(COGS_mean,COGS_std))\n",
    "\n",
    "# Generating the net income simulations\n",
    "profit_sims = sales_sims + COGS_sims"
   ]
  },
  {
   "cell_type": "markdown",
   "id": "48a93707",
   "metadata": {},
   "source": [
    "**Examine the Worst, Average, Best scenarios and probability distribution**"
   ]
  },
  {
   "cell_type": "code",
   "execution_count": 6,
   "id": "e2f1dc5b",
   "metadata": {},
   "outputs": [
    {
     "name": "stdout",
     "output_type": "stream",
     "text": [
      "Worst case: 27.964061228829898\n",
      "Average case: 46.73772359558358\n",
      "Best case: 64.35202045785168\n"
     ]
    }
   ],
   "source": [
    "print(\"Worst case:\" ,min(profit_sims))\n",
    "print(\"Average case:\" ,profit_sims.mean())\n",
    "print(\"Best case:\" ,max(profit_sims))"
   ]
  },
  {
   "cell_type": "markdown",
   "id": "af5b3775",
   "metadata": {},
   "source": [
    "**Range of profit that falls under certain confidence level**"
   ]
  },
  {
   "cell_type": "code",
   "execution_count": 9,
   "id": "b4d65dd0",
   "metadata": {},
   "outputs": [],
   "source": [
    "# Set up confidence levels\n",
    "upper68 = profit_sims.mean() + profit_sims.std()\n",
    "lower68 = profit_sims.mean() - profit_sims.std()\n",
    "upper95 = profit_sims.mean() + profit_sims.std()*2\n",
    "lower95 = profit_sims.mean() - profit_sims.std()*2"
   ]
  },
  {
   "cell_type": "code",
   "execution_count": 10,
   "id": "50cf79d5",
   "metadata": {},
   "outputs": [
    {
     "data": {
      "image/png": "[encoded data removed]",
      "text/plain": [
       "<Figure size 432x288 with 1 Axes>"
      ]
     },
     "metadata": {
      "needs_background": "light"
     },
     "output_type": "display_data"
    },
    {
     "name": "stdout",
     "output_type": "stream",
     "text": [
      "68% profit range: $42.06 and $51.41\n",
      "95% profit range: $37.38 and $56.09\n"
     ]
    }
   ],
   "source": [
    "# Visuzalize the distribution of all simulations\n",
    "plt.hist(profit_sims,bins=20)\n",
    "plt.axvline(upper68,color=\"k\",linestyle=\"dashed\",linewidth=1)\n",
    "plt.axvline(lower68,color=\"k\",linestyle=\"dashed\",linewidth=1)\n",
    "plt.axvline(upper95,color=\"k\",linestyle=\"dashed\",linewidth=1)\n",
    "plt.axvline(lower95,color=\"k\",linestyle=\"dashed\",linewidth=1)\n",
    "plt.show()\n",
    "\n",
    "# Print out the confidence intervals\n",
    "print(f\"68% profit range: ${round(lower68,2)} and ${round(upper68,2)}\")\n",
    "print(f\"95% profit range: ${round(lower95,2)} and ${round(upper95,2)}\")"
   ]
  },
  {
   "cell_type": "code",
   "execution_count": null,
   "id": "e282d82b",
   "metadata": {},
   "outputs": [],
   "source": []
  }
 ],
 "metadata": {
  "kernelspec": {
   "display_name": "Python 3 (ipykernel)",
   "language": "python",
   "name": "python3"
  },
  "language_info": {
   "codemirror_mode": {
    "name": "ipython",
    "version": 3
   },
   "file_extension": ".py",
   "mimetype": "text/x-python",
   "name": "python",
   "nbconvert_exporter": "python",
   "pygments_lexer": "ipython3",
   "version": "3.10.2"
  }
 },
 "nbformat": 4,
 "nbformat_minor": 5
}
