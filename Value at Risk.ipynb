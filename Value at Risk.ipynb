{
 "cells": [
  {
   "cell_type": "markdown",
   "id": "8306505f",
   "metadata": {},
   "source": [
    "**Assess the risk of purchasing 1,000 GOOGL shares and holding them for one month**"
   ]
  },
  {
   "cell_type": "code",
   "execution_count": 1,
   "id": "b5b365f3",
   "metadata": {},
   "outputs": [],
   "source": [
    "import numpy as np\n",
    "import pandas as pd\n",
    "import yfinance as yf\n",
    "import matplotlib.pyplot as plt"
   ]
  },
  {
   "cell_type": "markdown",
   "id": "b8e45fb6",
   "metadata": {},
   "source": [
    "**Setting up stock parameters**"
   ]
  },
  {
   "cell_type": "code",
   "execution_count": 3,
   "id": "914eec8f",
   "metadata": {},
   "outputs": [
    {
     "data": {
      "text/html": [
       "<div>\n",
       "<style scoped>\n",
       "    .dataframe tbody tr th:only-of-type {\n",
       "        vertical-align: middle;\n",
       "    }\n",
       "\n",
       "    .dataframe tbody tr th {\n",
       "        vertical-align: top;\n",
       "    }\n",
       "\n",
       "    .dataframe thead th {\n",
       "        text-align: right;\n",
       "    }\n",
       "</style>\n",
       "<table border=\"1\" class=\"dataframe\">\n",
       "  <thead>\n",
       "    <tr style=\"text-align: right;\">\n",
       "      <th></th>\n",
       "      <th>Open</th>\n",
       "      <th>High</th>\n",
       "      <th>Low</th>\n",
       "      <th>Close</th>\n",
       "      <th>Volume</th>\n",
       "      <th>Dividends</th>\n",
       "      <th>Stock Splits</th>\n",
       "    </tr>\n",
       "    <tr>\n",
       "      <th>Date</th>\n",
       "      <th></th>\n",
       "      <th></th>\n",
       "      <th></th>\n",
       "      <th></th>\n",
       "      <th></th>\n",
       "      <th></th>\n",
       "      <th></th>\n",
       "    </tr>\n",
       "  </thead>\n",
       "  <tbody>\n",
       "    <tr>\n",
       "      <th>2022-08-24</th>\n",
       "      <td>113.500000</td>\n",
       "      <td>114.779999</td>\n",
       "      <td>112.870003</td>\n",
       "      <td>113.690002</td>\n",
       "      <td>17734600</td>\n",
       "      <td>0</td>\n",
       "      <td>0</td>\n",
       "    </tr>\n",
       "    <tr>\n",
       "      <th>2022-08-25</th>\n",
       "      <td>114.239998</td>\n",
       "      <td>116.720001</td>\n",
       "      <td>114.110001</td>\n",
       "      <td>116.650002</td>\n",
       "      <td>16956800</td>\n",
       "      <td>0</td>\n",
       "      <td>0</td>\n",
       "    </tr>\n",
       "    <tr>\n",
       "      <th>2022-08-26</th>\n",
       "      <td>114.720001</td>\n",
       "      <td>115.120003</td>\n",
       "      <td>110.190002</td>\n",
       "      <td>110.339996</td>\n",
       "      <td>37245700</td>\n",
       "      <td>0</td>\n",
       "      <td>0</td>\n",
       "    </tr>\n",
       "    <tr>\n",
       "      <th>2022-08-29</th>\n",
       "      <td>109.989998</td>\n",
       "      <td>110.949997</td>\n",
       "      <td>108.800003</td>\n",
       "      <td>109.419998</td>\n",
       "      <td>21191200</td>\n",
       "      <td>0</td>\n",
       "      <td>0</td>\n",
       "    </tr>\n",
       "    <tr>\n",
       "      <th>2022-08-30</th>\n",
       "      <td>110.169998</td>\n",
       "      <td>110.500000</td>\n",
       "      <td>107.800003</td>\n",
       "      <td>108.940002</td>\n",
       "      <td>27513300</td>\n",
       "      <td>0</td>\n",
       "      <td>0</td>\n",
       "    </tr>\n",
       "    <tr>\n",
       "      <th>2022-08-31</th>\n",
       "      <td>110.650002</td>\n",
       "      <td>110.849998</td>\n",
       "      <td>108.129997</td>\n",
       "      <td>108.220001</td>\n",
       "      <td>28627000</td>\n",
       "      <td>0</td>\n",
       "      <td>0</td>\n",
       "    </tr>\n",
       "    <tr>\n",
       "      <th>2022-09-01</th>\n",
       "      <td>108.279999</td>\n",
       "      <td>110.449997</td>\n",
       "      <td>107.360001</td>\n",
       "      <td>109.739998</td>\n",
       "      <td>28360900</td>\n",
       "      <td>0</td>\n",
       "      <td>0</td>\n",
       "    </tr>\n",
       "    <tr>\n",
       "      <th>2022-09-02</th>\n",
       "      <td>110.589996</td>\n",
       "      <td>110.739998</td>\n",
       "      <td>107.260002</td>\n",
       "      <td>107.849998</td>\n",
       "      <td>24142000</td>\n",
       "      <td>0</td>\n",
       "      <td>0</td>\n",
       "    </tr>\n",
       "    <tr>\n",
       "      <th>2022-09-06</th>\n",
       "      <td>107.300003</td>\n",
       "      <td>108.029999</td>\n",
       "      <td>105.779999</td>\n",
       "      <td>106.809998</td>\n",
       "      <td>25068300</td>\n",
       "      <td>0</td>\n",
       "      <td>0</td>\n",
       "    </tr>\n",
       "    <tr>\n",
       "      <th>2022-09-07</th>\n",
       "      <td>107.059998</td>\n",
       "      <td>109.980003</td>\n",
       "      <td>106.900002</td>\n",
       "      <td>109.449997</td>\n",
       "      <td>23167000</td>\n",
       "      <td>0</td>\n",
       "      <td>0</td>\n",
       "    </tr>\n",
       "    <tr>\n",
       "      <th>2022-09-08</th>\n",
       "      <td>108.040001</td>\n",
       "      <td>109.599998</td>\n",
       "      <td>107.160004</td>\n",
       "      <td>108.379997</td>\n",
       "      <td>24238300</td>\n",
       "      <td>0</td>\n",
       "      <td>0</td>\n",
       "    </tr>\n",
       "    <tr>\n",
       "      <th>2022-09-09</th>\n",
       "      <td>109.070000</td>\n",
       "      <td>110.989998</td>\n",
       "      <td>109.019997</td>\n",
       "      <td>110.650002</td>\n",
       "      <td>23197700</td>\n",
       "      <td>0</td>\n",
       "      <td>0</td>\n",
       "    </tr>\n",
       "    <tr>\n",
       "      <th>2022-09-12</th>\n",
       "      <td>110.989998</td>\n",
       "      <td>111.620003</td>\n",
       "      <td>109.930000</td>\n",
       "      <td>110.860001</td>\n",
       "      <td>22966800</td>\n",
       "      <td>0</td>\n",
       "      <td>0</td>\n",
       "    </tr>\n",
       "    <tr>\n",
       "      <th>2022-09-13</th>\n",
       "      <td>107.800003</td>\n",
       "      <td>108.300003</td>\n",
       "      <td>104.089996</td>\n",
       "      <td>104.320000</td>\n",
       "      <td>38172900</td>\n",
       "      <td>0</td>\n",
       "      <td>0</td>\n",
       "    </tr>\n",
       "    <tr>\n",
       "      <th>2022-09-14</th>\n",
       "      <td>104.570000</td>\n",
       "      <td>105.279999</td>\n",
       "      <td>103.660004</td>\n",
       "      <td>105.000000</td>\n",
       "      <td>26395100</td>\n",
       "      <td>0</td>\n",
       "      <td>0</td>\n",
       "    </tr>\n",
       "    <tr>\n",
       "      <th>2022-09-15</th>\n",
       "      <td>104.029999</td>\n",
       "      <td>105.269997</td>\n",
       "      <td>102.349998</td>\n",
       "      <td>102.910004</td>\n",
       "      <td>34188300</td>\n",
       "      <td>0</td>\n",
       "      <td>0</td>\n",
       "    </tr>\n",
       "    <tr>\n",
       "      <th>2022-09-16</th>\n",
       "      <td>102.070000</td>\n",
       "      <td>103.129997</td>\n",
       "      <td>100.940002</td>\n",
       "      <td>102.800003</td>\n",
       "      <td>42780300</td>\n",
       "      <td>0</td>\n",
       "      <td>0</td>\n",
       "    </tr>\n",
       "    <tr>\n",
       "      <th>2022-09-19</th>\n",
       "      <td>101.750000</td>\n",
       "      <td>103.330002</td>\n",
       "      <td>101.550003</td>\n",
       "      <td>103.070000</td>\n",
       "      <td>23036800</td>\n",
       "      <td>0</td>\n",
       "      <td>0</td>\n",
       "    </tr>\n",
       "    <tr>\n",
       "      <th>2022-09-20</th>\n",
       "      <td>102.080002</td>\n",
       "      <td>102.370003</td>\n",
       "      <td>100.519997</td>\n",
       "      <td>101.139999</td>\n",
       "      <td>26517100</td>\n",
       "      <td>0</td>\n",
       "      <td>0</td>\n",
       "    </tr>\n",
       "    <tr>\n",
       "      <th>2022-09-21</th>\n",
       "      <td>101.669998</td>\n",
       "      <td>102.879997</td>\n",
       "      <td>99.269997</td>\n",
       "      <td>99.279999</td>\n",
       "      <td>31487300</td>\n",
       "      <td>0</td>\n",
       "      <td>0</td>\n",
       "    </tr>\n",
       "    <tr>\n",
       "      <th>2022-09-22</th>\n",
       "      <td>98.820000</td>\n",
       "      <td>101.239998</td>\n",
       "      <td>98.790001</td>\n",
       "      <td>100.139999</td>\n",
       "      <td>34298600</td>\n",
       "      <td>0</td>\n",
       "      <td>0</td>\n",
       "    </tr>\n",
       "    <tr>\n",
       "      <th>2022-09-23</th>\n",
       "      <td>99.629997</td>\n",
       "      <td>99.660004</td>\n",
       "      <td>97.470001</td>\n",
       "      <td>98.739998</td>\n",
       "      <td>31602900</td>\n",
       "      <td>0</td>\n",
       "      <td>0</td>\n",
       "    </tr>\n",
       "  </tbody>\n",
       "</table>\n",
       "</div>"
      ],
      "text/plain": [
       "                  Open        High         Low       Close    Volume  \\\n",
       "Date                                                                   \n",
       "2022-08-24  113.500000  114.779999  112.870003  113.690002  17734600   \n",
       "2022-08-25  114.239998  116.720001  114.110001  116.650002  16956800   \n",
       "2022-08-26  114.720001  115.120003  110.190002  110.339996  37245700   \n",
       "2022-08-29  109.989998  110.949997  108.800003  109.419998  21191200   \n",
       "2022-08-30  110.169998  110.500000  107.800003  108.940002  27513300   \n",
       "2022-08-31  110.650002  110.849998  108.129997  108.220001  28627000   \n",
       "2022-09-01  108.279999  110.449997  107.360001  109.739998  28360900   \n",
       "2022-09-02  110.589996  110.739998  107.260002  107.849998  24142000   \n",
       "2022-09-06  107.300003  108.029999  105.779999  106.809998  25068300   \n",
       "2022-09-07  107.059998  109.980003  106.900002  109.449997  23167000   \n",
       "2022-09-08  108.040001  109.599998  107.160004  108.379997  24238300   \n",
       "2022-09-09  109.070000  110.989998  109.019997  110.650002  23197700   \n",
       "2022-09-12  110.989998  111.620003  109.930000  110.860001  22966800   \n",
       "2022-09-13  107.800003  108.300003  104.089996  104.320000  38172900   \n",
       "2022-09-14  104.570000  105.279999  103.660004  105.000000  26395100   \n",
       "2022-09-15  104.029999  105.269997  102.349998  102.910004  34188300   \n",
       "2022-09-16  102.070000  103.129997  100.940002  102.800003  42780300   \n",
       "2022-09-19  101.750000  103.330002  101.550003  103.070000  23036800   \n",
       "2022-09-20  102.080002  102.370003  100.519997  101.139999  26517100   \n",
       "2022-09-21  101.669998  102.879997   99.269997   99.279999  31487300   \n",
       "2022-09-22   98.820000  101.239998   98.790001  100.139999  34298600   \n",
       "2022-09-23   99.629997   99.660004   97.470001   98.739998  31602900   \n",
       "\n",
       "            Dividends  Stock Splits  \n",
       "Date                                 \n",
       "2022-08-24          0             0  \n",
       "2022-08-25          0             0  \n",
       "2022-08-26          0             0  \n",
       "2022-08-29          0             0  \n",
       "2022-08-30          0             0  \n",
       "2022-08-31          0             0  \n",
       "2022-09-01          0             0  \n",
       "2022-09-02          0             0  \n",
       "2022-09-06          0             0  \n",
       "2022-09-07          0             0  \n",
       "2022-09-08          0             0  \n",
       "2022-09-09          0             0  \n",
       "2022-09-12          0             0  \n",
       "2022-09-13          0             0  \n",
       "2022-09-14          0             0  \n",
       "2022-09-15          0             0  \n",
       "2022-09-16          0             0  \n",
       "2022-09-19          0             0  \n",
       "2022-09-20          0             0  \n",
       "2022-09-21          0             0  \n",
       "2022-09-22          0             0  \n",
       "2022-09-23          0             0  "
      ]
     },
     "execution_count": 3,
     "metadata": {},
     "output_type": "execute_result"
    }
   ],
   "source": [
    "# number of shares\n",
    "shares_GOOGL=1000\n",
    "\n",
    "# live stock price\n",
    "price=yf.Ticker(\"GOOGL\")\n",
    "price.history()"
   ]
  },
  {
   "cell_type": "code",
   "execution_count": 10,
   "id": "57a9b84d",
   "metadata": {},
   "outputs": [
    {
     "data": {
      "text/plain": [
       "98.73999786376953"
      ]
     },
     "execution_count": 10,
     "metadata": {},
     "output_type": "execute_result"
    }
   ],
   "source": [
    "# ending close stock price\n",
    "price_GOOGL=(price.history().tail(1)[\"Close\"].iloc[0])\n",
    "price_GOOGL"
   ]
  },
  {
   "cell_type": "code",
   "execution_count": 11,
   "id": "75eb428d",
   "metadata": {},
   "outputs": [],
   "source": [
    "# Investment value\n",
    "value_GOOGL= price_GOOGL * shares_GOOGL\n",
    "\n",
    "# Risk free rate (4 week Treasury Bill Rate, 2.65%)\n",
    "RFR_GOOGL=0.0265\n",
    "\n",
    "# Volatility (30-day historical volatility for GOOGL as at this time)\n",
    "vol_GOOGL=0.3512"
   ]
  },
  {
   "cell_type": "markdown",
   "id": "cfa83642",
   "metadata": {},
   "source": [
    "**Simulations-Calculating Investment returns**"
   ]
  },
  {
   "cell_type": "code",
   "execution_count": 12,
   "id": "228014cb",
   "metadata": {},
   "outputs": [],
   "source": [
    "# Number of Simulations\n",
    "simulations=50000\n",
    "# Simulate the return for holding the Investment for one month(21 trading days in month/ total in a year)\n",
    "t_GOOGL=21/252"
   ]
  },
  {
   "cell_type": "code",
   "execution_count": 13,
   "id": "41bfa84a",
   "metadata": {},
   "outputs": [
    {
     "data": {
      "text/plain": [
       "(array([  1.,   0.,   0.,   0.,   1.,   0.,   0.,   3.,   0.,   0.,   1.,\n",
       "          0.,   0.,   3.,   2.,   2.,   3.,   6.,   8.,   6.,   8.,   9.,\n",
       "          7.,  11.,  10.,  20.,  29.,  31.,  42.,  39.,  39.,  36.,  37.,\n",
       "         46.,  55.,  63.,  59.,  81.,  69.,  59.,  97.,  90., 115., 123.,\n",
       "         88., 112., 133., 131., 125., 148., 154., 138., 148., 155., 140.,\n",
       "        146., 137., 148., 151., 135., 134., 114., 118., 118., 113., 116.,\n",
       "         94.,  76.,  77.,  84.,  55.,  61.,  55.,  47.,  49.,  33.,  36.,\n",
       "         35.,  19.,  25.,  28.,   9.,  21.,  14.,  12.,  15.,   5.,   7.,\n",
       "          7.,   4.,   8.,   3.,   2.,   2.,   0.,   0.,   0.,   2.,   0.,\n",
       "          2.]),\n",
       " array([-3.87948834, -3.80717411, -3.73485988, -3.66254565, -3.59023142,\n",
       "        -3.5179172 , -3.44560297, -3.37328874, -3.30097451, -3.22866028,\n",
       "        -3.15634605, -3.08403182, -3.01171759, -2.93940337, -2.86708914,\n",
       "        -2.79477491, -2.72246068, -2.65014645, -2.57783222, -2.50551799,\n",
       "        -2.43320376, -2.36088954, -2.28857531, -2.21626108, -2.14394685,\n",
       "        -2.07163262, -1.99931839, -1.92700416, -1.85468993, -1.78237571,\n",
       "        -1.71006148, -1.63774725, -1.56543302, -1.49311879, -1.42080456,\n",
       "        -1.34849033, -1.2761761 , -1.20386188, -1.13154765, -1.05923342,\n",
       "        -0.98691919, -0.91460496, -0.84229073, -0.7699765 , -0.69766227,\n",
       "        -0.62534805, -0.55303382, -0.48071959, -0.40840536, -0.33609113,\n",
       "        -0.2637769 , -0.19146267, -0.11914844, -0.04683422,  0.02548001,\n",
       "         0.09779424,  0.17010847,  0.2424227 ,  0.31473693,  0.38705116,\n",
       "         0.45936539,  0.53167961,  0.60399384,  0.67630807,  0.7486223 ,\n",
       "         0.82093653,  0.89325076,  0.96556499,  1.03787922,  1.11019344,\n",
       "         1.18250767,  1.2548219 ,  1.32713613,  1.39945036,  1.47176459,\n",
       "         1.54407882,  1.61639305,  1.68870727,  1.7610215 ,  1.83333573,\n",
       "         1.90564996,  1.97796419,  2.05027842,  2.12259265,  2.19490688,\n",
       "         2.2672211 ,  2.33953533,  2.41184956,  2.48416379,  2.55647802,\n",
       "         2.62879225,  2.70110648,  2.77342071,  2.84573493,  2.91804916,\n",
       "         2.99036339,  3.06267762,  3.13499185,  3.20730608,  3.27962031,\n",
       "         3.35193454]),\n",
       " <BarContainer object of 100 artists>)"
      ]
     },
     "execution_count": 13,
     "metadata": {},
     "output_type": "execute_result"
    },
    {
     "data": {
      "image/png": "[encoded data removed]",
      "text/plain": [
       "<Figure size 432x288 with 1 Axes>"
      ]
     },
     "metadata": {
      "needs_background": "light"
     },
     "output_type": "display_data"
    }
   ],
   "source": [
    "# Generate 5000 samples from a standard normal distribution, mean=0, sd=1\n",
    "sample=np.random.standard_normal(5000)\n",
    "\n",
    "# Visuzalize the distibution of the sample\n",
    "plt.hist(sample,bins=100)"
   ]
  },
  {
   "cell_type": "code",
   "execution_count": 14,
   "id": "4e0f25e1",
   "metadata": {},
   "outputs": [
    {
     "name": "stdout",
     "output_type": "stream",
     "text": [
      "-0.0027727406278528965\n",
      "0.9906613155760593\n"
     ]
    }
   ],
   "source": [
    "# mean and standard deviation of the sample array\n",
    "print (np.mean(sample))\n",
    "print (np.std(sample))"
   ]
  },
  {
   "cell_type": "code",
   "execution_count": 15,
   "id": "f930b3d2",
   "metadata": {},
   "outputs": [],
   "source": [
    "# Create a function to calculate the returns of the investment in 50000 scenarios\n",
    "def VaR(pv,RFR,vol,t,simulations):\n",
    "    end_value=pv*np.exp((RFR - 0.5 * vol ** 2) * t + np.random.standard_normal(\n",
    "        simulations) * vol * np.sqrt(t))\n",
    "    returns = end_value - pv\n",
    "    return returns\n",
    "\n",
    "# Apply the VaR function using the parameters to simulate the returns\n",
    "returns_GOOGL = VaR(value_GOOGL,RFR_GOOGL,vol_GOOGL,t_GOOGL,simulations)"
   ]
  },
  {
   "cell_type": "markdown",
   "id": "d31dd5f4",
   "metadata": {},
   "source": [
    "**Identify VaR at 90%, 95% and 99% confidence level**"
   ]
  },
  {
   "cell_type": "code",
   "execution_count": 16,
   "id": "e5c201d0",
   "metadata": {},
   "outputs": [
    {
     "name": "stdout",
     "output_type": "stream",
     "text": [
      "VaR at 90% confidence level: $3,455\n"
     ]
    }
   ],
   "source": [
    "# print: VaR at X% confidence levelP: $y\n",
    "x= 0.9\n",
    "y= 3455.248\n",
    "print(\"VaR at {:.0%} confidence level: ${:,.0f}\".format(x,y))"
   ]
  },
  {
   "cell_type": "code",
   "execution_count": 20,
   "id": "4b1f1254",
   "metadata": {},
   "outputs": [
    {
     "name": "stdout",
     "output_type": "stream",
     "text": [
      "VaR at 90% confidence level: $-12,468\n",
      "VaR at 95% confidence level: $-15,599\n",
      "VaR at 99% confidence level: $-20,813\n"
     ]
    },
    {
     "data": {
      "image/png": "[encoded data removed]",
      "text/plain": [
       "<Figure size 432x288 with 1 Axes>"
      ]
     },
     "metadata": {
      "needs_background": "light"
     },
     "output_type": "display_data"
    }
   ],
   "source": [
    "# Plot the distribution of returns\n",
    "plt.hist(returns_GOOGL,bins=100)\n",
    "\n",
    "# Show VaR at 90%, 95%, 99% confidence level\n",
    "percentiles = [10,5,1]\n",
    "\n",
    "for i in percentiles:\n",
    "    confidence = (100-i)/100\n",
    "    value = np.percentile(returns_GOOGL,i)\n",
    "    print(\"VaR at {:.0%} confidence level: ${:,.0f}\".format(confidence,value))\n",
    "    plt.axvline(value,color = \"red\",linestyle=\"dashed\",linewidth=1)"
   ]
  }
 ],
 "metadata": {
  "kernelspec": {
   "display_name": "Python 3 (ipykernel)",
   "language": "python",
   "name": "python3"
  },
  "language_info": {
   "codemirror_mode": {
    "name": "ipython",
    "version": 3
   },
   "file_extension": ".py",
   "mimetype": "text/x-python",
   "name": "python",
   "nbconvert_exporter": "python",
   "pygments_lexer": "ipython3",
   "version": "3.10.2"
  }
 },
 "nbformat": 4,
 "nbformat_minor": 5
}
